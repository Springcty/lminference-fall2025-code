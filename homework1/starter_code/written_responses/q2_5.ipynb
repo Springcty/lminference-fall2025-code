{
 "cells": [
  {
   "cell_type": "code",
   "execution_count": 1,
   "id": "51908222",
   "metadata": {},
   "outputs": [],
   "source": [
    "import numpy as np"
   ]
  },
  {
   "cell_type": "code",
   "execution_count": 2,
   "id": "1a0e563f",
   "metadata": {},
   "outputs": [],
   "source": [
    "def brier_score(confidence: list, true_labels: list) -> float:\n",
    "    confidence = np.array(confidence)\n",
    "    true_labels = np.array(true_labels)\n",
    "    return np.mean((confidence - true_labels) ** 2)"
   ]
  },
  {
   "cell_type": "code",
   "execution_count": 4,
   "id": "580084a0",
   "metadata": {},
   "outputs": [],
   "source": [
    "def ece(conf, preds, labels, num_bins=2):\n",
    "    conf, preds, labels = map(np.array, (conf, preds, labels))\n",
    "    n = len(conf)\n",
    "    order = np.argsort(-conf)  # sort by descending confidence\n",
    "    conf, preds, labels = conf[order], preds[order], labels[order]\n",
    "\n",
    "    bins = np.array_split(np.arange(n), num_bins)\n",
    "    ece = 0.0\n",
    "    for idxs in bins:\n",
    "        bin_conf = np.mean(conf[idxs])\n",
    "        bin_acc = np.mean(preds[idxs] == labels[idxs])\n",
    "        ece += (len(idxs) / n) * abs(bin_acc - bin_conf)\n",
    "    return ece\n"
   ]
  },
  {
   "cell_type": "code",
   "execution_count": 5,
   "id": "c5a2bbf3",
   "metadata": {},
   "outputs": [],
   "source": [
    "def macro_ce(conf, preds, labels, num_bins=2):\n",
    "    conf, preds, labels = map(np.array, (conf, preds, labels))\n",
    "    n = len(conf)\n",
    "    order = np.argsort(-conf)\n",
    "    conf, preds, labels = conf[order], preds[order], labels[order]\n",
    "\n",
    "    bins = np.array_split(np.arange(n), num_bins)\n",
    "    diffs = []\n",
    "    for idxs in bins:\n",
    "        bin_conf = np.mean(conf[idxs])\n",
    "        bin_acc = np.mean(preds[idxs] == labels[idxs])\n",
    "        diffs.append(abs(bin_acc - bin_conf))\n",
    "    return np.mean(diffs)"
   ]
  },
  {
   "cell_type": "code",
   "execution_count": 6,
   "id": "fff29ed6",
   "metadata": {},
   "outputs": [
    {
     "name": "stdout",
     "output_type": "stream",
     "text": [
      "ECE: 0.13333333333333341\n",
      "Macro CE: 0.13333333333333341\n",
      "Brier score: 0.2800000000000001\n",
      "\n",
      "ECE: 0.4333333333333333\n",
      "Macro CE: 0.4333333333333333\n",
      "Brier score: 0.30000000000000004\n",
      "\n",
      "ECE: 0.06666666666666665\n",
      "Macro CE: 0.06666666666666665\n",
      "Brier score: 0.10333333333333333\n",
      "\n"
     ]
    }
   ],
   "source": [
    "sample_cases = [\n",
    "    {\n",
    "        \"conf\": [0.9, 0.9, 0.8, 0.8, 0.7, 0.7],\n",
    "        \"pred\": [1, 1, 1, 1, 1, 1],\n",
    "        \"true\": [1, 0, 1, 0, 1, 1],\n",
    "    },\n",
    "    {\n",
    "        \"conf\": [0.9, 0.9, 0.9, 0.8, 0.8, 0.7],\n",
    "        \"pred\": [1, 1, 1, 1, 1, 1],\n",
    "        \"true\": [1, 1, 1, 0, 0, 0],\n",
    "    },\n",
    "    {\n",
    "        \"conf\": [0.9, 0.9, 0.8, 0.8, 0.6, 0.6],\n",
    "        \"pred\": [1, 1, 1, 1, 1, 1],\n",
    "        \"true\": [1, 1, 1, 1, 1, 0],\n",
    "    },\n",
    "]\n",
    "\n",
    "for case in sample_cases:\n",
    "    conf, pred, true = case[\"conf\"], case[\"pred\"], case[\"true\"]\n",
    "    print(\"ECE:\", ece(conf, pred, true, num_bins=2))\n",
    "    print(\"Macro CE:\", macro_ce(conf, pred, true, num_bins=2))\n",
    "    print(\"Brier score:\", brier_score(conf, true))\n",
    "    print()"
   ]
  },
  {
   "cell_type": "code",
   "execution_count": null,
   "id": "220ac941",
   "metadata": {},
   "outputs": [],
   "source": []
  }
 ],
 "metadata": {
  "kernelspec": {
   "display_name": "IntroToML",
   "language": "python",
   "name": "python3"
  },
  "language_info": {
   "codemirror_mode": {
    "name": "ipython",
    "version": 3
   },
   "file_extension": ".py",
   "mimetype": "text/x-python",
   "name": "python",
   "nbconvert_exporter": "python",
   "pygments_lexer": "ipython3",
   "version": "3.9.20"
  }
 },
 "nbformat": 4,
 "nbformat_minor": 5
}
