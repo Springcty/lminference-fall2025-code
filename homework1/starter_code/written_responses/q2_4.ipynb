{
 "cells": [
  {
   "cell_type": "code",
   "execution_count": 1,
   "id": "6d0125b9",
   "metadata": {},
   "outputs": [
    {
     "name": "stderr",
     "output_type": "stream",
     "text": [
      "/home/tianyuca/miniconda3/envs/IntroToML/lib/python3.9/site-packages/tqdm/auto.py:21: TqdmWarning: IProgress not found. Please update jupyter and ipywidgets. See https://ipywidgets.readthedocs.io/en/stable/user_install.html\n",
      "  from .autonotebook import tqdm as notebook_tqdm\n",
      "`torch_dtype` is deprecated! Use `dtype` instead!\n",
      "Fetching 2 files: 100%|██████████| 2/2 [00:34<00:00, 17.16s/it]\n",
      "Loading checkpoint shards: 100%|██████████| 2/2 [00:04<00:00,  2.36s/it]\n"
     ]
    }
   ],
   "source": [
    "from transformers import AutoModelForCausalLM, AutoTokenizer, set_seed\n",
    "\n",
    "model_name = \"Qwen/Qwen3-1.7B\"\n",
    "\n",
    "# load the tokenizer and the model\n",
    "tokenizer = AutoTokenizer.from_pretrained(model_name)\n",
    "model = AutoModelForCausalLM.from_pretrained(\n",
    "    model_name,\n",
    "    torch_dtype=\"auto\",\n",
    "    device_map=\"auto\"\n",
    ")"
   ]
  },
  {
   "cell_type": "code",
   "execution_count": 11,
   "id": "6497f4af",
   "metadata": {},
   "outputs": [],
   "source": [
    "def generate_beams(prompt, num_beams=4, num_return_sequences=4, max_new_tokens=20):\n",
    "    model_name = \"Qwen/Qwen3-1.7B\"\n",
    "    model.eval()\n",
    "    set_seed(42)\n",
    "    \n",
    "    inputs = tokenizer(prompt, return_tensors=\"pt\").to(model.device)\n",
    "    \n",
    "    out = model.generate(\n",
    "        **inputs,\n",
    "        max_new_tokens=max_new_tokens,\n",
    "        num_beams=num_beams,\n",
    "        num_return_sequences=num_return_sequences,\n",
    "        early_stopping=True,        # stop when all beams finish\n",
    "        do_sample=False,             # pure beam search (no sampling)\n",
    "        return_dict_in_generate=True,\n",
    "        output_scores=True,\n",
    "    )\n",
    "    sequences = out.sequences  # shape: (num_return_sequences, seq_len)\n",
    "    decoded = tokenizer.batch_decode(sequences, skip_special_tokens=True)\n",
    "    return decoded"
   ]
  },
  {
   "cell_type": "code",
   "execution_count": null,
   "id": "d9dcea4f",
   "metadata": {},
   "outputs": [
    {
     "name": "stdout",
     "output_type": "stream",
     "text": [
      "Beam 0: Once upon a time, there was a cat, a dog, and a bird. They were playing in the park.\n",
      "Beam 1: Once upon a time, there was a cat who lived in a house. The cat loved to play with his toys.\n",
      "Beam 2: Once upon a time, there was a cat who lived in a house. The cat loved to play with a ball of\n",
      "Beam 3: Once upon a time, there was a cat who lived in a house. The cat had a long tail, and it\n",
      "Beam 4: Once upon a time, there was a cat who lived in a house. The cat loved to play with his toys,\n",
      "Beam 5: Once upon a time, there was a cat who lived in a house. The cat loved to play with its toys.\n",
      "Beam 6: Once upon a time, there was a cat who lived in a house. The cat loved to play with the toys in\n",
      "Beam 7: Once upon a time, there was a cat who lived in a house. The cat loved to play with his toys and\n",
      "Beam 8: Once upon a time, there was a cat who lived in a house. The cat loved to play with toys. One\n",
      "Beam 9: Once upon a time, there was a cat who lived in a house. The cat loved to play with its toys,\n"
     ]
    }
   ],
   "source": [
    "prompt = \"Once upon a time, there was a cat\"\n",
    "beams = generate_beams(prompt, num_beams=10, num_return_sequences=10, max_new_tokens=15)\n",
    "for i, seq in enumerate(beams):\n",
    "    print(f\"Beam {i}: {seq}\")"
   ]
  },
  {
   "cell_type": "code",
   "execution_count": null,
   "id": "9d1a1776",
   "metadata": {},
   "outputs": [],
   "source": []
  }
 ],
 "metadata": {
  "kernelspec": {
   "display_name": "IntroToML",
   "language": "python",
   "name": "python3"
  },
  "language_info": {
   "codemirror_mode": {
    "name": "ipython",
    "version": 3
   },
   "file_extension": ".py",
   "mimetype": "text/x-python",
   "name": "python",
   "nbconvert_exporter": "python",
   "pygments_lexer": "ipython3",
   "version": "3.9.20"
  }
 },
 "nbformat": 4,
 "nbformat_minor": 5
}
